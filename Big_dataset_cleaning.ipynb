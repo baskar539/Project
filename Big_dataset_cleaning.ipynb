{
 "cells": [
  {
   "cell_type": "code",
   "execution_count": 1,
   "id": "2b018283",
   "metadata": {},
   "outputs": [],
   "source": [
    "import pandas as pd\n",
    "import numpy as np\n",
    "from pandas.api.types import is_string_dtype\n",
    "from pandas.api.types import is_numeric_dtype\n",
    "import matplotlib.pyplot as plt\n",
    "from scipy import stats\n",
    "from sklearn.preprocessing import MinMaxScaler\n",
    "import seaborn as sns\n",
    "from sklearn.preprocessing import LabelEncoder\n",
    "from sklearn.linear_model import LinearRegression\n",
    "from sklearn.preprocessing import PolynomialFeatures\n",
    "from sklearn.model_selection import train_test_split, KFold, cross_val_score\n",
    "from sklearn import svm, feature_selection, linear_model, model_selection, metrics\n",
    "from sklearn.feature_selection import SelectKBest\n",
    "from sklearn.feature_selection import f_regression\n",
    "import matplotlib.pylab as plb\n",
    "from sklearn.exceptions import ConvergenceWarning\n",
    "import warnings\n",
    "from sklearn.ensemble import RandomForestClassifier, RandomForestRegressor\n",
    "from sklearn.impute import KNNImputer\n",
    "from xgboost import XGBRegressor\n",
    "from sklearn.metrics import r2_score\n",
    "from sklearn.cluster import KMeans\n",
    "from sklearn.metrics import silhouette_score\n",
    "from sklearn.cluster import DBSCAN"
   ]
  },
  {
   "cell_type": "code",
   "execution_count": 2,
   "id": "e34bcd17",
   "metadata": {},
   "outputs": [],
   "source": [
    "# nrows can be adjusted bigger later\n",
    "df = pd.read_csv('Manhattan.csv', skiprows=4)"
   ]
  },
  {
   "cell_type": "code",
   "execution_count": 3,
   "id": "94bbadc7",
   "metadata": {},
   "outputs": [],
   "source": [
    "df = df.rename(columns={'SALE\\nPRICE':'SALE PRICE', 'APART\\nMENT\\nNUMBER':'APARTMENT NUMBER', 'EASE-MENT':'EASEMENT'})\n",
    "df.drop(columns=['BOROUGH', 'EASEMENT', 'ADDRESS'], inplace=True)\n",
    "df['TOTAL UNITS'] = df['TOTAL UNITS'].astype(str).str.replace(',', '')\n",
    "df.astype({'TOTAL UNITS':'int64'})\n",
    "df['SALE PRICE'] = pd.to_numeric(df['SALE PRICE'].str.replace(',', '', regex=True).str.replace('$','', regex=True))"
   ]
  },
  {
   "cell_type": "code",
   "execution_count": 4,
   "id": "f68c0ee4",
   "metadata": {},
   "outputs": [],
   "source": [
    "# remove outliers based on z-score\n",
    "def filter_outliers(df, col):\n",
    "    z_scores = stats.zscore(df[col])\n",
    "    # we define the threshold is 3 but exeute this procedure a reasonable times   \n",
    "    zscore_threshold = 3\n",
    "    mask = (abs(z_scores) < zscore_threshold)\n",
    "    return df.loc[mask]"
   ]
  },
  {
   "cell_type": "code",
   "execution_count": 5,
   "id": "b77147b6",
   "metadata": {},
   "outputs": [],
   "source": [
    "# we should execute this method many times until the mean value equal to median\n",
    "for i in range(15):\n",
    "    df = filter_outliers(df, 'SALE PRICE')"
   ]
  },
  {
   "cell_type": "markdown",
   "id": "ed84ae8a",
   "metadata": {},
   "source": [
    "labelencode编码categorical value\n",
    "use KNNImpute handle cells with missing value\n",
    "use dummy handle categorical value"
   ]
  },
  {
   "cell_type": "code",
   "execution_count": 6,
   "id": "a2fe6354",
   "metadata": {},
   "outputs": [
    {
     "data": {
      "text/plain": [
       "(23459, 18)"
      ]
     },
     "execution_count": 6,
     "metadata": {},
     "output_type": "execute_result"
    }
   ],
   "source": [
    "df.shape"
   ]
  },
  {
   "cell_type": "code",
   "execution_count": 7,
   "id": "e1bef7d1",
   "metadata": {},
   "outputs": [],
   "source": [
    "categorical_cols = df.select_dtypes(include=['category', 'object']).columns"
   ]
  },
  {
   "cell_type": "code",
   "execution_count": 8,
   "id": "2a00600f",
   "metadata": {},
   "outputs": [],
   "source": [
    "lb = LabelEncoder()\n",
    "for col in categorical_cols:\n",
    "    df[col] = lb.fit_transform(df[col].astype(str))"
   ]
  },
  {
   "cell_type": "code",
   "execution_count": 9,
   "id": "5b087d57",
   "metadata": {},
   "outputs": [
    {
     "data": {
      "text/html": [
       "<div>\n",
       "<style scoped>\n",
       "    .dataframe tbody tr th:only-of-type {\n",
       "        vertical-align: middle;\n",
       "    }\n",
       "\n",
       "    .dataframe tbody tr th {\n",
       "        vertical-align: top;\n",
       "    }\n",
       "\n",
       "    .dataframe thead th {\n",
       "        text-align: right;\n",
       "    }\n",
       "</style>\n",
       "<table border=\"1\" class=\"dataframe\">\n",
       "  <thead>\n",
       "    <tr style=\"text-align: right;\">\n",
       "      <th></th>\n",
       "      <th>NEIGHBORHOOD</th>\n",
       "      <th>BUILDING CLASS CATEGORY</th>\n",
       "      <th>TAX CLASS AT PRESENT</th>\n",
       "      <th>BLOCK</th>\n",
       "      <th>LOT</th>\n",
       "      <th>BUILDING CLASS AT PRESENT</th>\n",
       "      <th>APARTMENT NUMBER</th>\n",
       "      <th>ZIP CODE</th>\n",
       "      <th>RESIDENTIAL UNITS</th>\n",
       "      <th>COMMERCIAL UNITS</th>\n",
       "      <th>TOTAL UNITS</th>\n",
       "      <th>LAND SQUARE FEET</th>\n",
       "      <th>GROSS SQUARE FEET</th>\n",
       "      <th>YEAR BUILT</th>\n",
       "      <th>TAX CLASS AT TIME OF SALE</th>\n",
       "      <th>BUILDING CLASS AT TIME OF SALE</th>\n",
       "      <th>SALE PRICE</th>\n",
       "      <th>SALE DATE</th>\n",
       "    </tr>\n",
       "  </thead>\n",
       "  <tbody>\n",
       "    <tr>\n",
       "      <th>1</th>\n",
       "      <td>0</td>\n",
       "      <td>11</td>\n",
       "      <td>0</td>\n",
       "      <td>738</td>\n",
       "      <td>1307</td>\n",
       "      <td>0</td>\n",
       "      <td>0</td>\n",
       "      <td>10014</td>\n",
       "      <td>0</td>\n",
       "      <td>0</td>\n",
       "      <td>0</td>\n",
       "      <td>0</td>\n",
       "      <td>0</td>\n",
       "      <td>0</td>\n",
       "      <td>2</td>\n",
       "      <td>81</td>\n",
       "      <td>1654656</td>\n",
       "      <td>181</td>\n",
       "    </tr>\n",
       "    <tr>\n",
       "      <th>2</th>\n",
       "      <td>0</td>\n",
       "      <td>11</td>\n",
       "      <td>0</td>\n",
       "      <td>738</td>\n",
       "      <td>1308</td>\n",
       "      <td>0</td>\n",
       "      <td>0</td>\n",
       "      <td>10014</td>\n",
       "      <td>0</td>\n",
       "      <td>0</td>\n",
       "      <td>0</td>\n",
       "      <td>0</td>\n",
       "      <td>0</td>\n",
       "      <td>0</td>\n",
       "      <td>2</td>\n",
       "      <td>81</td>\n",
       "      <td>1069162</td>\n",
       "      <td>263</td>\n",
       "    </tr>\n",
       "    <tr>\n",
       "      <th>3</th>\n",
       "      <td>0</td>\n",
       "      <td>11</td>\n",
       "      <td>0</td>\n",
       "      <td>738</td>\n",
       "      <td>1309</td>\n",
       "      <td>0</td>\n",
       "      <td>0</td>\n",
       "      <td>10014</td>\n",
       "      <td>0</td>\n",
       "      <td>0</td>\n",
       "      <td>0</td>\n",
       "      <td>0</td>\n",
       "      <td>0</td>\n",
       "      <td>0</td>\n",
       "      <td>2</td>\n",
       "      <td>81</td>\n",
       "      <td>1374637</td>\n",
       "      <td>168</td>\n",
       "    </tr>\n",
       "  </tbody>\n",
       "</table>\n",
       "</div>"
      ],
      "text/plain": [
       "   NEIGHBORHOOD  BUILDING CLASS CATEGORY  TAX CLASS AT PRESENT  BLOCK   LOT  \\\n",
       "1             0                       11                     0    738  1307   \n",
       "2             0                       11                     0    738  1308   \n",
       "3             0                       11                     0    738  1309   \n",
       "\n",
       "   BUILDING CLASS AT PRESENT  APARTMENT NUMBER  ZIP CODE  RESIDENTIAL UNITS  \\\n",
       "1                          0                 0     10014                  0   \n",
       "2                          0                 0     10014                  0   \n",
       "3                          0                 0     10014                  0   \n",
       "\n",
       "   COMMERCIAL UNITS  TOTAL UNITS  LAND SQUARE FEET  GROSS SQUARE FEET  \\\n",
       "1                 0            0                 0                  0   \n",
       "2                 0            0                 0                  0   \n",
       "3                 0            0                 0                  0   \n",
       "\n",
       "   YEAR BUILT  TAX CLASS AT TIME OF SALE  BUILDING CLASS AT TIME OF SALE  \\\n",
       "1           0                          2                              81   \n",
       "2           0                          2                              81   \n",
       "3           0                          2                              81   \n",
       "\n",
       "   SALE PRICE  SALE DATE  \n",
       "1     1654656        181  \n",
       "2     1069162        263  \n",
       "3     1374637        168  "
      ]
     },
     "execution_count": 9,
     "metadata": {},
     "output_type": "execute_result"
    }
   ],
   "source": [
    "df.head(3)"
   ]
  },
  {
   "cell_type": "code",
   "execution_count": 10,
   "id": "bca04abd",
   "metadata": {},
   "outputs": [
    {
     "data": {
      "text/plain": [
       "(23459, 18)"
      ]
     },
     "execution_count": 10,
     "metadata": {},
     "output_type": "execute_result"
    }
   ],
   "source": [
    "df.shape"
   ]
  },
  {
   "cell_type": "code",
   "execution_count": 11,
   "id": "eb19e45f",
   "metadata": {},
   "outputs": [],
   "source": [
    "imputer = KNNImputer(n_neighbors=5)\n",
    "df_imputed = pd.DataFrame(imputer.fit_transform(df), columns=df.columns)"
   ]
  },
  {
   "cell_type": "code",
   "execution_count": 12,
   "id": "7e99977c",
   "metadata": {},
   "outputs": [
    {
     "data": {
      "text/plain": [
       "(23459, 18)"
      ]
     },
     "execution_count": 12,
     "metadata": {},
     "output_type": "execute_result"
    }
   ],
   "source": [
    "df.shape"
   ]
  },
  {
   "cell_type": "code",
   "execution_count": 13,
   "id": "5f0d7d98",
   "metadata": {},
   "outputs": [],
   "source": [
    "# check whether dataframe has some empty string cell or None values\n",
    "def check_empty(df):\n",
    "    for col in df.select_dtypes(include='object'):\n",
    "        if df[col].str.strip().isna().any():\n",
    "            print(f\"Column {col} contains None values\")\n",
    "        if df[col].str.strip().eq('').any():\n",
    "            print(f\"Column {col} contains empty values\")"
   ]
  },
  {
   "cell_type": "code",
   "execution_count": 14,
   "id": "393c64b2",
   "metadata": {},
   "outputs": [],
   "source": [
    "check_empty(df)"
   ]
  },
  {
   "cell_type": "code",
   "execution_count": 15,
   "id": "1237c848",
   "metadata": {},
   "outputs": [],
   "source": [
    "df['SALE PRICE'].replace(0, np.nan, inplace=True)\n",
    "# df['LAND SQUARE FEET'].replace(0, np.nan, inplace=True)\n",
    "df.dropna(axis=0,  how='any', inplace=True)"
   ]
  },
  {
   "cell_type": "code",
   "execution_count": 16,
   "id": "0bae0b92",
   "metadata": {},
   "outputs": [
    {
     "data": {
      "text/plain": [
       "(15866, 18)"
      ]
     },
     "execution_count": 16,
     "metadata": {},
     "output_type": "execute_result"
    }
   ],
   "source": [
    "df.shape"
   ]
  },
  {
   "cell_type": "code",
   "execution_count": 17,
   "id": "5b563f27",
   "metadata": {},
   "outputs": [],
   "source": [
    "categorical_cols = df.select_dtypes(include=['category', 'object']).columns\n",
    "df = pd.get_dummies(df, columns=categorical_cols)"
   ]
  },
  {
   "cell_type": "code",
   "execution_count": 18,
   "id": "3c170b0d",
   "metadata": {},
   "outputs": [],
   "source": [
    "def normalize(df):\n",
    "    # select numerical columns\n",
    "    num_cols=df.select_dtypes(include=[np.number]).copy()\n",
    "    df_norm=((num_cols-num_cols.min())/(num_cols.max()-num_cols.min()))\n",
    "    return df_norm"
   ]
  },
  {
   "cell_type": "code",
   "execution_count": 19,
   "id": "aa6d74d1",
   "metadata": {},
   "outputs": [],
   "source": [
    "df = normalize(df)"
   ]
  },
  {
   "cell_type": "code",
   "execution_count": 20,
   "id": "14cba2a0",
   "metadata": {},
   "outputs": [
    {
     "data": {
      "text/plain": [
       "(15866, 18)"
      ]
     },
     "execution_count": 20,
     "metadata": {},
     "output_type": "execute_result"
    }
   ],
   "source": [
    "df.shape"
   ]
  },
  {
   "cell_type": "code",
   "execution_count": 21,
   "id": "9c286d9a",
   "metadata": {},
   "outputs": [],
   "source": [
    "df.to_csv('big_clean_dataset.csv')"
   ]
  }
 ],
 "metadata": {
  "kernelspec": {
   "display_name": "Python 3 (ipykernel)",
   "language": "python",
   "name": "python3"
  },
  "language_info": {
   "codemirror_mode": {
    "name": "ipython",
    "version": 3
   },
   "file_extension": ".py",
   "mimetype": "text/x-python",
   "name": "python",
   "nbconvert_exporter": "python",
   "pygments_lexer": "ipython3",
   "version": "3.9.12"
  }
 },
 "nbformat": 4,
 "nbformat_minor": 5
}
