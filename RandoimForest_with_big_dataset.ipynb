{
 "cells": [
  {
   "cell_type": "code",
   "execution_count": 1,
   "id": "07bb9529",
   "metadata": {},
   "outputs": [],
   "source": [
    "import pandas as pd\n",
    "import numpy as np\n",
    "from pandas.api.types import is_string_dtype\n",
    "from pandas.api.types import is_numeric_dtype\n",
    "import matplotlib.pyplot as plt\n",
    "from scipy import stats\n",
    "from sklearn.preprocessing import MinMaxScaler\n",
    "import seaborn as sns\n",
    "from sklearn.preprocessing import LabelEncoder\n",
    "from sklearn.linear_model import LinearRegression\n",
    "from sklearn.preprocessing import PolynomialFeatures\n",
    "from sklearn.model_selection import train_test_split, KFold, cross_val_score\n",
    "from sklearn import svm, feature_selection, linear_model, model_selection, metrics\n",
    "from sklearn.feature_selection import SelectKBest\n",
    "from sklearn.feature_selection import f_regression\n",
    "import matplotlib.pylab as plb\n",
    "from sklearn.exceptions import ConvergenceWarning\n",
    "import warnings\n",
    "from sklearn.ensemble import RandomForestClassifier, RandomForestRegressor\n",
    "from sklearn.impute import KNNImputer\n",
    "from xgboost import XGBRegressor\n",
    "from sklearn.metrics import r2_score\n",
    "from sklearn.cluster import KMeans\n",
    "from sklearn.metrics import silhouette_score\n",
    "from sklearn.cluster import DBSCAN"
   ]
  },
  {
   "cell_type": "code",
   "execution_count": 2,
   "id": "623c98ef",
   "metadata": {},
   "outputs": [],
   "source": [
    "df = pd.read_csv('big_clean_dataset.csv').drop(columns='Unnamed: 0')"
   ]
  },
  {
   "cell_type": "code",
   "execution_count": 8,
   "id": "48d6a12d",
   "metadata": {},
   "outputs": [
    {
     "data": {
      "text/plain": [
       "(15866, 18)"
      ]
     },
     "execution_count": 8,
     "metadata": {},
     "output_type": "execute_result"
    }
   ],
   "source": [
    "df.shape"
   ]
  },
  {
   "cell_type": "code",
   "execution_count": 3,
   "id": "c7202160",
   "metadata": {},
   "outputs": [],
   "source": [
    "X0 = df.loc[:, df.columns != 'SALE PRICE'] \n",
    "Y0 = df['SALE PRICE'] "
   ]
  },
  {
   "cell_type": "code",
   "execution_count": 4,
   "id": "35300c0d",
   "metadata": {},
   "outputs": [],
   "source": [
    "trainX, testX, trainY, testY = model_selection.train_test_split(X0, Y0, test_size=0.30)"
   ]
  },
  {
   "cell_type": "code",
   "execution_count": 7,
   "id": "6db70f4a",
   "metadata": {},
   "outputs": [
    {
     "name": "stdout",
     "output_type": "stream",
     "text": [
      "Accuracy  score  for  training  data  is:  0.744\n",
      "Accuracy score for test data: 0.527\n"
     ]
    }
   ],
   "source": [
    "#Builds up a Random Forest classifier \n",
    "rm = RandomForestRegressor(n_jobs=-1, min_samples_split= 5, \n",
    "                             min_samples_leaf=5, n_estimators=100, oob_score=True,\n",
    "                             max_features='auto') \n",
    "rm.fit(trainX,trainY) \n",
    "\n",
    "y_pred = rm.predict(testX)\n",
    "\n",
    "print(\"Accuracy  score  for  training  data  is:  {:4.3f}\".format(rm.score(trainX, trainY))) \n",
    "print(\"Accuracy score for test data: {:4.3f}\".format(rm.score(testX, testY)))"
   ]
  },
  {
   "cell_type": "code",
   "execution_count": 6,
   "id": "8d76d726",
   "metadata": {},
   "outputs": [
    {
     "name": "stdout",
     "output_type": "stream",
     "text": [
      "Accuracy  score  for  training  data  is:  0.783\n",
      "Accuracy score for test data: 0.531\n"
     ]
    }
   ],
   "source": [
    "#Builds up a Random Forest classifier \n",
    "rm = RandomForestRegressor(n_jobs=-1, min_samples_split= 5, \n",
    "                             min_samples_leaf=2, n_estimators=100, oob_score=True,\n",
    "                             max_features='sqrt') \n",
    "rm.fit(trainX,trainY) \n",
    "\n",
    "y_pred = rm.predict(testX)\n",
    "\n",
    "print(\"Accuracy  score  for  training  data  is:  {:4.3f}\".format(rm.score(trainX, trainY))) \n",
    "print(\"Accuracy score for test data: {:4.3f}\".format(rm.score(testX, testY)))"
   ]
  },
  {
   "cell_type": "code",
   "execution_count": 9,
   "id": "d2a1224c",
   "metadata": {},
   "outputs": [
    {
     "name": "stdout",
     "output_type": "stream",
     "text": [
      "Accuracy  score  for  training  data  is:  0.786\n",
      "Accuracy score for test data: 0.534\n"
     ]
    }
   ],
   "source": [
    "#Builds up a Random Forest classifier \n",
    "rm = RandomForestRegressor(n_jobs=-1, min_samples_split= 5, \n",
    "                             min_samples_leaf=2, n_estimators=100, oob_score=True,\n",
    "                             max_features='log2') \n",
    "rm.fit(trainX,trainY) \n",
    "\n",
    "y_pred = rm.predict(testX)\n",
    "\n",
    "print(\"Accuracy  score  for  training  data  is:  {:4.3f}\".format(rm.score(trainX, trainY))) \n",
    "print(\"Accuracy score for test data: {:4.3f}\".format(rm.score(testX, testY)))"
   ]
  }
 ],
 "metadata": {
  "kernelspec": {
   "display_name": "Python 3 (ipykernel)",
   "language": "python",
   "name": "python3"
  },
  "language_info": {
   "codemirror_mode": {
    "name": "ipython",
    "version": 3
   },
   "file_extension": ".py",
   "mimetype": "text/x-python",
   "name": "python",
   "nbconvert_exporter": "python",
   "pygments_lexer": "ipython3",
   "version": "3.9.12"
  }
 },
 "nbformat": 4,
 "nbformat_minor": 5
}
