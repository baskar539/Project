{
 "cells": [
  {
   "cell_type": "code",
   "execution_count": 1,
   "id": "180a2727",
   "metadata": {},
   "outputs": [],
   "source": [
    "import pandas as pd\n",
    "import numpy as np\n",
    "from pandas.api.types import is_string_dtype\n",
    "from pandas.api.types import is_numeric_dtype\n",
    "import matplotlib.pyplot as plt\n",
    "from scipy import stats\n",
    "from sklearn.preprocessing import MinMaxScaler\n",
    "import seaborn as sns\n",
    "from sklearn.preprocessing import LabelEncoder\n",
    "from sklearn.linear_model import LinearRegression\n",
    "from sklearn.preprocessing import PolynomialFeatures\n",
    "from sklearn.model_selection import train_test_split, KFold, cross_val_score\n",
    "from sklearn import svm, feature_selection, linear_model, model_selection, metrics\n",
    "from sklearn.feature_selection import SelectKBest\n",
    "from sklearn.feature_selection import f_regression\n",
    "import matplotlib.pylab as plb\n",
    "from sklearn.exceptions import ConvergenceWarning\n",
    "import warnings\n",
    "from sklearn.ensemble import RandomForestClassifier, RandomForestRegressor\n",
    "from sklearn.impute import KNNImputer\n",
    "from xgboost import XGBRegressor\n",
    "from sklearn.metrics import r2_score\n",
    "from sklearn.cluster import KMeans\n",
    "from sklearn.metrics import silhouette_score\n",
    "from sklearn.cluster import DBSCAN"
   ]
  },
  {
   "cell_type": "code",
   "execution_count": 2,
   "id": "40845102",
   "metadata": {},
   "outputs": [],
   "source": [
    "df = pd.read_csv('small_clean_set.csv').drop(columns='Unnamed: 0')"
   ]
  },
  {
   "cell_type": "code",
   "execution_count": 3,
   "id": "bb76f38f",
   "metadata": {},
   "outputs": [],
   "source": [
    "X0 = df.loc[:, df.columns != 'SALE PRICE'] \n",
    "Y0 = df['SALE PRICE'] "
   ]
  },
  {
   "cell_type": "code",
   "execution_count": 4,
   "id": "474d4c99",
   "metadata": {},
   "outputs": [],
   "source": [
    "trainX, testX, trainY, testY = model_selection.train_test_split(X0, Y0, test_size=0.30)"
   ]
  },
  {
   "cell_type": "code",
   "execution_count": 5,
   "id": "d44529df",
   "metadata": {},
   "outputs": [
    {
     "name": "stdout",
     "output_type": "stream",
     "text": [
      "Accuracy  score  for  training  data  is:  0.525\n",
      "Accuracy score for test data: 0.450\n",
      "Accuracy  score  for  training  data  is:  0.525\n",
      "Accuracy score for test data: 0.450\n"
     ]
    }
   ],
   "source": [
    "#Builds up a Random Forest classifier \n",
    "rm = RandomForestRegressor(n_jobs=-1, min_samples_split= 5, \n",
    "                             min_samples_leaf=2, n_estimators=100, oob_score=True,\n",
    "                             max_features='sqrt') \n",
    "rm.fit(trainX,trainY) \n",
    "\n",
    "y_pred = rm.predict(testX)\n",
    "\n",
    "print(\"Accuracy  score  for  training  data  is:  {:4.3f}\".format(rm.score(trainX, trainY))) \n",
    "print(\"Accuracy score for test data: {:4.3f}\".format(rm.score(testX, testY)))"
   ]
  },
  {
   "cell_type": "code",
   "execution_count": 10,
   "id": "7dcea802",
   "metadata": {},
   "outputs": [
    {
     "name": "stdout",
     "output_type": "stream",
     "text": [
      "Accuracy  score  for  training  data  is:  0.796\n",
      "Accuracy score for test data: 0.585\n",
      "Accuracy  score  for  training  data  is:  0.796\n",
      "Accuracy score for test data: 0.585\n"
     ]
    }
   ],
   "source": [
    "#Builds up a Random Forest classifier \n",
    "rm = RandomForestRegressor(n_jobs=-1, min_samples_split= 5, \n",
    "                             min_samples_leaf=3, n_estimators=100, oob_score=True,\n",
    "                             max_features='auto') \n",
    "rm.fit(trainX,trainY) \n",
    "\n",
    "y_pred = rm.predict(testX)\n",
    "\n",
    "print(\"Accuracy  score  for  training  data  is:  {:4.3f}\".format(rm.score(trainX, trainY))) \n",
    "print(\"Accuracy score for test data: {:4.3f}\".format(rm.score(testX, testY)))"
   ]
  },
  {
   "cell_type": "code",
   "execution_count": 7,
   "id": "8a5f6fe6",
   "metadata": {},
   "outputs": [
    {
     "name": "stdout",
     "output_type": "stream",
     "text": [
      "Accuracy  score  for  training  data  is:  0.202\n",
      "Accuracy score for test data: 0.184\n",
      "Accuracy  score  for  training  data  is:  0.202\n",
      "Accuracy score for test data: 0.184\n"
     ]
    }
   ],
   "source": [
    "#Builds up a Random Forest classifier \n",
    "rm = RandomForestRegressor(n_jobs=-1, min_samples_split= 5, \n",
    "                             min_samples_leaf=2, n_estimators=100, oob_score=True,\n",
    "                             max_features='log2') \n",
    "rm.fit(trainX,trainY) \n",
    "\n",
    "y_pred = rm.predict(testX)\n",
    "\n",
    "print(\"Accuracy  score  for  training  data  is:  {:4.3f}\".format(rm.score(trainX, trainY))) \n",
    "print(\"Accuracy score for test data: {:4.3f}\".format(rm.score(testX, testY)))"
   ]
  }
 ],
 "metadata": {
  "kernelspec": {
   "display_name": "Python 3 (ipykernel)",
   "language": "python",
   "name": "python3"
  },
  "language_info": {
   "codemirror_mode": {
    "name": "ipython",
    "version": 3
   },
   "file_extension": ".py",
   "mimetype": "text/x-python",
   "name": "python",
   "nbconvert_exporter": "python",
   "pygments_lexer": "ipython3",
   "version": "3.9.12"
  }
 },
 "nbformat": 4,
 "nbformat_minor": 5
}
