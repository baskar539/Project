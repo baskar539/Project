{
 "cells": [
  {
   "cell_type": "code",
   "execution_count": 1,
   "id": "c3ef6f47",
   "metadata": {},
   "outputs": [],
   "source": [
    "import pandas as pd\n",
    "import numpy as np\n",
    "from pandas.api.types import is_string_dtype\n",
    "from pandas.api.types import is_numeric_dtype\n",
    "import matplotlib.pyplot as plt\n",
    "from scipy import stats\n",
    "from sklearn.preprocessing import MinMaxScaler\n",
    "import seaborn as sns\n",
    "from sklearn.preprocessing import LabelEncoder\n",
    "from sklearn.linear_model import LinearRegression\n",
    "from sklearn.preprocessing import PolynomialFeatures\n",
    "from sklearn.model_selection import train_test_split, KFold, cross_val_score\n",
    "from sklearn import svm, feature_selection, linear_model, model_selection, metrics\n",
    "from sklearn.feature_selection import SelectKBest\n",
    "from sklearn.feature_selection import f_regression\n",
    "import matplotlib.pylab as plb\n",
    "from sklearn.exceptions import ConvergenceWarning\n",
    "import warnings\n",
    "from sklearn.ensemble import RandomForestClassifier\n",
    "from sklearn.impute import KNNImputer\n",
    "from xgboost import XGBRegressor\n",
    "from sklearn.metrics import r2_score\n",
    "from sklearn.cluster import KMeans\n",
    "from sklearn.metrics import silhouette_score\n",
    "from sklearn.cluster import DBSCAN"
   ]
  },
  {
   "cell_type": "code",
   "execution_count": 2,
   "id": "bca68ab9",
   "metadata": {},
   "outputs": [],
   "source": [
    "df = pd.read_csv('big_clean_dataset.csv').drop(columns='Unnamed: 0')"
   ]
  },
  {
   "cell_type": "code",
   "execution_count": 3,
   "id": "de50c728",
   "metadata": {},
   "outputs": [
    {
     "data": {
      "text/html": [
       "<div>\n",
       "<style scoped>\n",
       "    .dataframe tbody tr th:only-of-type {\n",
       "        vertical-align: middle;\n",
       "    }\n",
       "\n",
       "    .dataframe tbody tr th {\n",
       "        vertical-align: top;\n",
       "    }\n",
       "\n",
       "    .dataframe thead th {\n",
       "        text-align: right;\n",
       "    }\n",
       "</style>\n",
       "<table border=\"1\" class=\"dataframe\">\n",
       "  <thead>\n",
       "    <tr style=\"text-align: right;\">\n",
       "      <th></th>\n",
       "      <th>NEIGHBORHOOD</th>\n",
       "      <th>BUILDING CLASS CATEGORY</th>\n",
       "      <th>TAX CLASS AT PRESENT</th>\n",
       "      <th>BLOCK</th>\n",
       "      <th>LOT</th>\n",
       "      <th>BUILDING CLASS AT PRESENT</th>\n",
       "      <th>APARTMENT NUMBER</th>\n",
       "      <th>ZIP CODE</th>\n",
       "      <th>RESIDENTIAL UNITS</th>\n",
       "      <th>COMMERCIAL UNITS</th>\n",
       "      <th>TOTAL UNITS</th>\n",
       "      <th>LAND SQUARE FEET</th>\n",
       "      <th>GROSS SQUARE FEET</th>\n",
       "      <th>YEAR BUILT</th>\n",
       "      <th>TAX CLASS AT TIME OF SALE</th>\n",
       "      <th>BUILDING CLASS AT TIME OF SALE</th>\n",
       "      <th>SALE PRICE</th>\n",
       "      <th>SALE DATE</th>\n",
       "    </tr>\n",
       "  </thead>\n",
       "  <tbody>\n",
       "    <tr>\n",
       "      <th>0</th>\n",
       "      <td>0</td>\n",
       "      <td>11</td>\n",
       "      <td>0</td>\n",
       "      <td>738</td>\n",
       "      <td>1307</td>\n",
       "      <td>0</td>\n",
       "      <td>0</td>\n",
       "      <td>10014</td>\n",
       "      <td>0</td>\n",
       "      <td>0</td>\n",
       "      <td>0</td>\n",
       "      <td>0</td>\n",
       "      <td>0</td>\n",
       "      <td>0</td>\n",
       "      <td>2</td>\n",
       "      <td>81</td>\n",
       "      <td>1654656.0</td>\n",
       "      <td>181</td>\n",
       "    </tr>\n",
       "    <tr>\n",
       "      <th>1</th>\n",
       "      <td>0</td>\n",
       "      <td>11</td>\n",
       "      <td>0</td>\n",
       "      <td>738</td>\n",
       "      <td>1308</td>\n",
       "      <td>0</td>\n",
       "      <td>0</td>\n",
       "      <td>10014</td>\n",
       "      <td>0</td>\n",
       "      <td>0</td>\n",
       "      <td>0</td>\n",
       "      <td>0</td>\n",
       "      <td>0</td>\n",
       "      <td>0</td>\n",
       "      <td>2</td>\n",
       "      <td>81</td>\n",
       "      <td>1069162.0</td>\n",
       "      <td>263</td>\n",
       "    </tr>\n",
       "  </tbody>\n",
       "</table>\n",
       "</div>"
      ],
      "text/plain": [
       "   NEIGHBORHOOD  BUILDING CLASS CATEGORY  TAX CLASS AT PRESENT  BLOCK   LOT  \\\n",
       "0             0                       11                     0    738  1307   \n",
       "1             0                       11                     0    738  1308   \n",
       "\n",
       "   BUILDING CLASS AT PRESENT  APARTMENT NUMBER  ZIP CODE  RESIDENTIAL UNITS  \\\n",
       "0                          0                 0     10014                  0   \n",
       "1                          0                 0     10014                  0   \n",
       "\n",
       "   COMMERCIAL UNITS  TOTAL UNITS  LAND SQUARE FEET  GROSS SQUARE FEET  \\\n",
       "0                 0            0                 0                  0   \n",
       "1                 0            0                 0                  0   \n",
       "\n",
       "   YEAR BUILT  TAX CLASS AT TIME OF SALE  BUILDING CLASS AT TIME OF SALE  \\\n",
       "0           0                          2                              81   \n",
       "1           0                          2                              81   \n",
       "\n",
       "   SALE PRICE  SALE DATE  \n",
       "0   1654656.0        181  \n",
       "1   1069162.0        263  "
      ]
     },
     "execution_count": 3,
     "metadata": {},
     "output_type": "execute_result"
    }
   ],
   "source": [
    "df.head(2)"
   ]
  },
  {
   "cell_type": "code",
   "execution_count": 4,
   "id": "0e3fa9b8",
   "metadata": {},
   "outputs": [],
   "source": [
    "# check whether dataframe has some empty string cell or None values\n",
    "def check_empty(df):\n",
    "    for col in df.select_dtypes(include='object'):\n",
    "        if df[col].str.strip().isna().any():\n",
    "            print(f\"Column {col} contains None values\")\n",
    "        if df[col].str.strip().eq('').any():\n",
    "            print(f\"Column {col} contains empty values\")\n",
    "        \n",
    "check_empty(df)"
   ]
  },
  {
   "cell_type": "code",
   "execution_count": 5,
   "id": "229e0e91",
   "metadata": {},
   "outputs": [],
   "source": [
    "# build liner model\n",
    "def bulid_liner_model(df, target_col, features, step=1, ranking=1):\n",
    "    # choose numerical columns as a new dataframe\n",
    "    df_model = df.select_dtypes(include=[np.number]).copy()\n",
    "    # convert columns name to a list\n",
    "    feature_cols = df_model.columns.values.tolist()\n",
    "    # remove the Inprice column\n",
    "    feature_cols.remove(target_col)\n",
    "    XO = df_model[feature_cols]\n",
    "    YO = df_model[target_col]\n",
    "    # choose feature which are important in the prediction\n",
    "    estimator = svm.SVR(kernel=\"linear\")\n",
    "    # 5 means no matter how many featrue as the input, only five most important parameters are left\n",
    "    # 1 means after one iteration, exclude one least important featrue\n",
    "    selector = feature_selection.RFE(estimator, n_features_to_select=features, step=step)\n",
    "    selector = selector.fit(XO, YO)\n",
    "\n",
    "    # From the ranking you can select your predictors with rank 1\n",
    "    # Model 1; let us select the folowing features as predictors:\n",
    "    select_features = np.array(feature_cols)[selector.ranking_ == ranking].tolist()\n",
    "\n",
    "    # training the liner model\n",
    "    X = df[select_features]\n",
    "    Y = df[target_col]\n",
    "    trainX, testX, trainY, testY = train_test_split(X, Y, test_size=0.2)\n",
    "    lm = linear_model.LinearRegression()\n",
    "    lm.fit(trainX, trainY)\n",
    "\n",
    "\n",
    "    print(\"R squared for the training data is {:4.3f}\".format(lm.score(trainX, trainY)))\n",
    "    print(\"Score against test data: {:4.3f}\".format(lm.score(testX, testY)))\n",
    "    return lm, X, Y"
   ]
  },
  {
   "cell_type": "code",
   "execution_count": 6,
   "id": "8c84b078",
   "metadata": {},
   "outputs": [],
   "source": [
    "# Using Correlation-based feature selection select high relation features\n",
    "def select_related_feature(df, target, k_num):\n",
    "    X = df.drop(target, axis=1)\n",
    "    y = df[target]\n",
    "    selector = SelectKBest(score_func=f_regression, k=k_num)\n",
    "    selector.fit(X, y)\n",
    "    selected_features = X.columns[selector.get_support()]\n",
    "    return selected_features"
   ]
  },
  {
   "cell_type": "markdown",
   "id": "e7e8ac19",
   "metadata": {},
   "source": [
    "# Modify the feature sum in order to change the model accuracy"
   ]
  },
  {
   "cell_type": "code",
   "execution_count": 7,
   "id": "0966a813",
   "metadata": {},
   "outputs": [],
   "source": [
    "target = 'SALE PRICE'\n",
    "# select_features = select_related_feature(df_label, target, 7)\n",
    "select_features = select_related_feature(df, target, 10)"
   ]
  },
  {
   "cell_type": "code",
   "execution_count": 8,
   "id": "8ac1b45a",
   "metadata": {},
   "outputs": [],
   "source": [
    "df_train = df[select_features]\n",
    "df_train = pd.concat([df_train, df[target]], axis=1)"
   ]
  },
  {
   "cell_type": "code",
   "execution_count": 9,
   "id": "9df7972e",
   "metadata": {},
   "outputs": [
    {
     "name": "stdout",
     "output_type": "stream",
     "text": [
      "R squared for the training data is 0.302\n",
      "Score against test data: 0.287\n"
     ]
    }
   ],
   "source": [
    "lm1, X1, Y1 = bulid_liner_model(df_train, target, 200, 50)"
   ]
  },
  {
   "cell_type": "code",
   "execution_count": 10,
   "id": "9dd5748e",
   "metadata": {},
   "outputs": [
    {
     "data": {
      "image/png": "[encoded data removed]",
      "text/plain": [
       "<Figure size 360x360 with 1 Axes>"
      ]
     },
     "metadata": {
      "needs_background": "light"
     },
     "output_type": "display_data"
    }
   ],
   "source": [
    "pred_y = lm1.predict(X1)\n",
    "res = Y1 - pred_y\n",
    "sns.displot(res, kde=True)\n",
    "plt.grid()"
   ]
  },
  {
   "cell_type": "code",
   "execution_count": 11,
   "id": "af060d59",
   "metadata": {},
   "outputs": [
    {
     "name": "stdout",
     "output_type": "stream",
     "text": [
      "X validation r2 score for Linear regression: 0.2968\n"
     ]
    }
   ],
   "source": [
    "from sklearn.model_selection import KFold, cross_val_score\n",
    "crossvalidation = KFold(10,shuffle=True, random_state=0)\n",
    "\n",
    "sr=cross_val_score(lm1, X1, Y1,scoring='r2',cv=crossvalidation,n_jobs=-1)\n",
    "\n",
    "print(\"X validation r2 score for Linear regression: {:5.4f}\".format(np.mean(sr)))"
   ]
  },
  {
   "cell_type": "code",
   "execution_count": 12,
   "id": "4967ce77",
   "metadata": {},
   "outputs": [
    {
     "data": {
      "text/plain": [
       "0.2990478812851546"
      ]
     },
     "execution_count": 12,
     "metadata": {},
     "output_type": "execute_result"
    }
   ],
   "source": [
    "r2_score(Y1, pred_y)"
   ]
  }
 ],
 "metadata": {
  "kernelspec": {
   "display_name": "Python 3 (ipykernel)",
   "language": "python",
   "name": "python3"
  },
  "language_info": {
   "codemirror_mode": {
    "name": "ipython",
    "version": 3
   },
   "file_extension": ".py",
   "mimetype": "text/x-python",
   "name": "python",
   "nbconvert_exporter": "python",
   "pygments_lexer": "ipython3",
   "version": "3.9.12"
  }
 },
 "nbformat": 4,
 "nbformat_minor": 5
}
