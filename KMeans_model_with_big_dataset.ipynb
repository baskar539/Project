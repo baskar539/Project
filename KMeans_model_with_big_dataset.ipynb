{
 "cells": [
  {
   "cell_type": "code",
   "execution_count": 1,
   "id": "386cdc7c",
   "metadata": {},
   "outputs": [],
   "source": [
    "import pandas as pd\n",
    "import numpy as np\n",
    "from pandas.api.types import is_string_dtype\n",
    "from pandas.api.types import is_numeric_dtype\n",
    "import matplotlib.pyplot as plt\n",
    "from scipy import stats\n",
    "from sklearn.preprocessing import MinMaxScaler\n",
    "import seaborn as sns\n",
    "from sklearn.preprocessing import LabelEncoder\n",
    "from sklearn.linear_model import LinearRegression\n",
    "from sklearn.preprocessing import PolynomialFeatures\n",
    "from sklearn.model_selection import train_test_split, KFold, cross_val_score\n",
    "from sklearn import svm, feature_selection, linear_model, model_selection, metrics\n",
    "from sklearn.feature_selection import SelectKBest\n",
    "from sklearn.feature_selection import f_regression\n",
    "import matplotlib.pylab as plb\n",
    "from sklearn.exceptions import ConvergenceWarning\n",
    "import warnings\n",
    "from sklearn.ensemble import RandomForestClassifier\n",
    "from sklearn.impute import KNNImputer\n",
    "from xgboost import XGBRegressor\n",
    "from sklearn.metrics import r2_score\n",
    "from sklearn.cluster import KMeans\n",
    "from sklearn.metrics import silhouette_score\n",
    "from sklearn.cluster import DBSCAN"
   ]
  },
  {
   "cell_type": "code",
   "execution_count": 18,
   "id": "eea81c76",
   "metadata": {},
   "outputs": [],
   "source": [
    "df = pd.read_csv('big_clean_dataset.csv').drop(columns='Unnamed: 0')"
   ]
  },
  {
   "cell_type": "code",
   "execution_count": 19,
   "id": "e9b7d5e5",
   "metadata": {},
   "outputs": [
    {
     "data": {
      "text/html": [
       "<div>\n",
       "<style scoped>\n",
       "    .dataframe tbody tr th:only-of-type {\n",
       "        vertical-align: middle;\n",
       "    }\n",
       "\n",
       "    .dataframe tbody tr th {\n",
       "        vertical-align: top;\n",
       "    }\n",
       "\n",
       "    .dataframe thead th {\n",
       "        text-align: right;\n",
       "    }\n",
       "</style>\n",
       "<table border=\"1\" class=\"dataframe\">\n",
       "  <thead>\n",
       "    <tr style=\"text-align: right;\">\n",
       "      <th></th>\n",
       "      <th>NEIGHBORHOOD</th>\n",
       "      <th>BUILDING CLASS CATEGORY</th>\n",
       "      <th>TAX CLASS AT PRESENT</th>\n",
       "      <th>BLOCK</th>\n",
       "      <th>LOT</th>\n",
       "      <th>BUILDING CLASS AT PRESENT</th>\n",
       "      <th>APARTMENT NUMBER</th>\n",
       "      <th>ZIP CODE</th>\n",
       "      <th>RESIDENTIAL UNITS</th>\n",
       "      <th>COMMERCIAL UNITS</th>\n",
       "      <th>TOTAL UNITS</th>\n",
       "      <th>LAND SQUARE FEET</th>\n",
       "      <th>GROSS SQUARE FEET</th>\n",
       "      <th>YEAR BUILT</th>\n",
       "      <th>TAX CLASS AT TIME OF SALE</th>\n",
       "      <th>BUILDING CLASS AT TIME OF SALE</th>\n",
       "      <th>SALE PRICE</th>\n",
       "      <th>SALE DATE</th>\n",
       "    </tr>\n",
       "  </thead>\n",
       "  <tbody>\n",
       "    <tr>\n",
       "      <th>0</th>\n",
       "      <td>0.0</td>\n",
       "      <td>0.34375</td>\n",
       "      <td>0.0</td>\n",
       "      <td>0.324699</td>\n",
       "      <td>0.144998</td>\n",
       "      <td>0.0</td>\n",
       "      <td>0.0</td>\n",
       "      <td>0.028139</td>\n",
       "      <td>0.0</td>\n",
       "      <td>0.0</td>\n",
       "      <td>0.0</td>\n",
       "      <td>0.0</td>\n",
       "      <td>0.0</td>\n",
       "      <td>0.0</td>\n",
       "      <td>0.333333</td>\n",
       "      <td>0.736364</td>\n",
       "      <td>0.815101</td>\n",
       "      <td>0.514205</td>\n",
       "    </tr>\n",
       "    <tr>\n",
       "      <th>1</th>\n",
       "      <td>0.0</td>\n",
       "      <td>0.34375</td>\n",
       "      <td>0.0</td>\n",
       "      <td>0.324699</td>\n",
       "      <td>0.145109</td>\n",
       "      <td>0.0</td>\n",
       "      <td>0.0</td>\n",
       "      <td>0.028139</td>\n",
       "      <td>0.0</td>\n",
       "      <td>0.0</td>\n",
       "      <td>0.0</td>\n",
       "      <td>0.0</td>\n",
       "      <td>0.0</td>\n",
       "      <td>0.0</td>\n",
       "      <td>0.333333</td>\n",
       "      <td>0.736364</td>\n",
       "      <td>0.526681</td>\n",
       "      <td>0.747159</td>\n",
       "    </tr>\n",
       "  </tbody>\n",
       "</table>\n",
       "</div>"
      ],
      "text/plain": [
       "   NEIGHBORHOOD  BUILDING CLASS CATEGORY  TAX CLASS AT PRESENT     BLOCK  \\\n",
       "0           0.0                  0.34375                   0.0  0.324699   \n",
       "1           0.0                  0.34375                   0.0  0.324699   \n",
       "\n",
       "        LOT  BUILDING CLASS AT PRESENT  APARTMENT NUMBER  ZIP CODE  \\\n",
       "0  0.144998                        0.0               0.0  0.028139   \n",
       "1  0.145109                        0.0               0.0  0.028139   \n",
       "\n",
       "   RESIDENTIAL UNITS  COMMERCIAL UNITS  TOTAL UNITS  LAND SQUARE FEET  \\\n",
       "0                0.0               0.0          0.0               0.0   \n",
       "1                0.0               0.0          0.0               0.0   \n",
       "\n",
       "   GROSS SQUARE FEET  YEAR BUILT  TAX CLASS AT TIME OF SALE  \\\n",
       "0                0.0         0.0                   0.333333   \n",
       "1                0.0         0.0                   0.333333   \n",
       "\n",
       "   BUILDING CLASS AT TIME OF SALE  SALE PRICE  SALE DATE  \n",
       "0                        0.736364    0.815101   0.514205  \n",
       "1                        0.736364    0.526681   0.747159  "
      ]
     },
     "execution_count": 19,
     "metadata": {},
     "output_type": "execute_result"
    }
   ],
   "source": [
    "df.head(2)"
   ]
  },
  {
   "cell_type": "code",
   "execution_count": 20,
   "id": "eda28833",
   "metadata": {},
   "outputs": [
    {
     "data": {
      "text/plain": [
       "(15866, 18)"
      ]
     },
     "execution_count": 20,
     "metadata": {},
     "output_type": "execute_result"
    }
   ],
   "source": [
    "df.shape"
   ]
  },
  {
   "cell_type": "code",
   "execution_count": 21,
   "id": "9192a177",
   "metadata": {},
   "outputs": [
    {
     "name": "stdout",
     "output_type": "stream",
     "text": [
      "\n",
      "Plotting elbow method...\n",
      "2 10363.654578174937\n",
      "4 6319.799415715196\n",
      "6 5091.662322207705\n",
      "8 4370.696357975062\n",
      "10 3902.1830516669834\n",
      "12 3558.386171088419\n",
      "14 3286.3491668877805\n",
      "16 3038.141725310565\n",
      "18 2888.3676352587963\n",
      "20 2717.0554807985436\n",
      "22 2576.2611600253504\n",
      "24 2476.312959761731\n",
      "26 2355.436817717559\n",
      "28 2257.1267731086473\n",
      "30 2180.7701352963163\n",
      "32 2116.168988371884\n",
      "34 2011.1037761168104\n",
      "36 1943.4635971458415\n",
      "38 1902.5051300230361\n",
      "40 1835.2035154513426\n",
      "42 1779.12701878691\n",
      "44 1738.0601380570124\n",
      "46 1713.1772268199547\n",
      "48 1664.5465828520153\n",
      "50 1619.4592247222822\n",
      "52 1594.6803086871303\n",
      "54 1562.9110863825267\n",
      "56 1519.2940433030228\n",
      "58 1490.9303130446872\n",
      "60 1469.0094051516821\n",
      "62 1440.1365979851737\n",
      "64 1412.7570855837193\n",
      "66 1390.6644630027934\n",
      "68 1361.9527106582875\n",
      "70 1340.1185152934786\n",
      "72 1316.6888264200845\n",
      "74 1292.6618716595353\n",
      "76 1279.8267247987053\n",
      "78 1252.763200771616\n",
      "80 1237.2126411632134\n",
      "82 1220.7793062764952\n",
      "84 1213.060048561537\n",
      "86 1190.7675976476287\n",
      "88 1183.6568466104752\n",
      "90 1164.8215946276534\n",
      "92 1148.3926383218425\n",
      "94 1139.7499695018862\n",
      "96 1128.8882810157165\n",
      "98 1113.4393048901668\n"
     ]
    },
    {
     "data": {
      "image/png": "[encoded data removed]",
      "text/plain": [
       "<Figure size 432x288 with 1 Axes>"
      ]
     },
     "metadata": {
      "needs_background": "light"
     },
     "output_type": "display_data"
    },
    {
     "name": "stdout",
     "output_type": "stream",
     "text": [
      "DONE\n"
     ]
    }
   ],
   "source": [
    "def elbow(data):\n",
    "    print(\"\\nPlotting elbow method...\")\n",
    "    sse = {}\n",
    "    for k in range(2, 100, 2):\n",
    "        kmeans = KMeans(n_clusters=k, max_iter=1000).fit(data)\n",
    "        print(k, kmeans.inertia_)\n",
    "        sse[k] = kmeans.inertia_  \n",
    "        # Inertia: Sum of distances of samples to their closest cluster center\n",
    "    plt.figure()\n",
    "    plt.plot(list(sse.keys()), list(sse.values()), linewidth=4)\n",
    "    plt.xlabel(\"Number of clusters\")\n",
    "    plt.ylabel(\"Cost\")\n",
    "    plt.show()\n",
    "    print(\"DONE\")\n",
    "    \n",
    "elbow(df)"
   ]
  },
  {
   "cell_type": "code",
   "execution_count": 5,
   "id": "387a92fa",
   "metadata": {},
   "outputs": [],
   "source": [
    "X0 = df.loc[:, df.columns != 'SALE PRICE'] \n",
    "Y0 = df['SALE PRICE'] \n",
    "trainX, testX, trainY, testY = model_selection.train_test_split(X0, Y0, test_size=0.30) "
   ]
  },
  {
   "cell_type": "code",
   "execution_count": 9,
   "id": "4ef6ff52",
   "metadata": {},
   "outputs": [
    {
     "data": {
      "text/plain": [
       "KMeans(init='random', n_clusters=60, random_state=42)"
      ]
     },
     "execution_count": 9,
     "metadata": {},
     "output_type": "execute_result"
    }
   ],
   "source": [
    "knnm = KMeans(n_clusters=60, init='random', random_state=42)\n",
    "knnm.fit(X0)"
   ]
  },
  {
   "cell_type": "code",
   "execution_count": 10,
   "id": "7a6d080c",
   "metadata": {},
   "outputs": [
    {
     "name": "stdout",
     "output_type": "stream",
     "text": [
      "Silhouette score: -0.69\n",
      "wcss score:1162.7859549856435\n"
     ]
    }
   ],
   "source": [
    "# predict the clusters for the data\n",
    "y_pred = knnm.predict(testX)\n",
    "\n",
    "# calculate Silhouette score for the clustering\n",
    "silhouette = silhouette_score(testX, testY)\n",
    "\n",
    "# better model has a higher Silhouette score\n",
    "print(f\"Silhouette score: {silhouette:.2f}\")\n",
    "\n",
    "# better model has a lower wcss(within-cluster sum of squares) score\n",
    "wcss = knnm.inertia_\n",
    "print(f\"wcss score:{wcss}\")"
   ]
  },
  {
   "cell_type": "markdown",
   "id": "09834659",
   "metadata": {},
   "source": [
    "# Visualise the cluster data"
   ]
  },
  {
   "cell_type": "code",
   "execution_count": 12,
   "id": "3bed333d",
   "metadata": {},
   "outputs": [
    {
     "data": {
      "image/png": "[encoded data removed]",
      "text/plain": [
       "<Figure size 432x288 with 1 Axes>"
      ]
     },
     "metadata": {
      "needs_background": "light"
     },
     "output_type": "display_data"
    }
   ],
   "source": [
    "labels = knnm.predict(X0)\n",
    "df['cluster'] = labels\n",
    "colors = ['red', 'green', 'blue', 'orange']\n",
    "\n",
    "# Create a scatter plot of the data, colored by cluster label, need list all columns\n",
    "df.plot.scatter(x='NEIGHBORHOOD', y='SALE PRICE', c=df['cluster'].apply(lambda x: colors[x%len(colors)]))\n",
    "\n",
    "# Plot the centroids of each cluster as black stars\n",
    "plt.scatter(knnm.cluster_centers_[:, 0], knnm.cluster_centers_[:, 1], s=100, marker='*', color='black')\n",
    "\n",
    "# Set the x and y axis labels and title of the plot\n",
    "plt.xlabel('NEIGHBORHOOD')\n",
    "plt.ylabel('SALE PRICE')\n",
    "plt.title('Cluster Scatter Graph')\n",
    "\n",
    "# Show the plot\n",
    "plt.show()"
   ]
  },
  {
   "cell_type": "markdown",
   "id": "4b78742d",
   "metadata": {},
   "source": [
    "# build the local regressor model"
   ]
  },
  {
   "cell_type": "code",
   "execution_count": 15,
   "id": "708c0806",
   "metadata": {},
   "outputs": [
    {
     "data": {
      "text/plain": [
       "60"
      ]
     },
     "execution_count": 15,
     "metadata": {},
     "output_type": "execute_result"
    }
   ],
   "source": [
    "knnm.n_clusters"
   ]
  },
  {
   "cell_type": "code",
   "execution_count": 39,
   "id": "ec4891eb",
   "metadata": {},
   "outputs": [
    {
     "data": {
      "text/plain": [
       "Index(['NEIGHBORHOOD', 'BUILDING CLASS CATEGORY', 'TAX CLASS AT PRESENT',\n",
       "       'BLOCK', 'LOT', 'BUILDING CLASS AT PRESENT', 'APARTMENT NUMBER',\n",
       "       'ZIP CODE', 'RESIDENTIAL UNITS', 'COMMERCIAL UNITS', 'TOTAL UNITS',\n",
       "       'LAND SQUARE FEET', 'GROSS SQUARE FEET', 'YEAR BUILT',\n",
       "       'TAX CLASS AT TIME OF SALE', 'BUILDING CLASS AT TIME OF SALE',\n",
       "       'SALE DATE'],\n",
       "      dtype='object')"
      ]
     },
     "execution_count": 39,
     "metadata": {},
     "output_type": "execute_result"
    }
   ],
   "source": [
    "X0.columns"
   ]
  },
  {
   "cell_type": "code",
   "execution_count": 37,
   "id": "0aa32b87",
   "metadata": {},
   "outputs": [
    {
     "data": {
      "text/html": [
       "<div>\n",
       "<style scoped>\n",
       "    .dataframe tbody tr th:only-of-type {\n",
       "        vertical-align: middle;\n",
       "    }\n",
       "\n",
       "    .dataframe tbody tr th {\n",
       "        vertical-align: top;\n",
       "    }\n",
       "\n",
       "    .dataframe thead th {\n",
       "        text-align: right;\n",
       "    }\n",
       "</style>\n",
       "<table border=\"1\" class=\"dataframe\">\n",
       "  <thead>\n",
       "    <tr style=\"text-align: right;\">\n",
       "      <th></th>\n",
       "      <th>NEIGHBORHOOD</th>\n",
       "      <th>BUILDING CLASS CATEGORY</th>\n",
       "      <th>TAX CLASS AT PRESENT</th>\n",
       "      <th>BLOCK</th>\n",
       "      <th>LOT</th>\n",
       "      <th>BUILDING CLASS AT PRESENT</th>\n",
       "      <th>APARTMENT NUMBER</th>\n",
       "      <th>ZIP CODE</th>\n",
       "      <th>RESIDENTIAL UNITS</th>\n",
       "      <th>COMMERCIAL UNITS</th>\n",
       "      <th>TOTAL UNITS</th>\n",
       "      <th>LAND SQUARE FEET</th>\n",
       "      <th>GROSS SQUARE FEET</th>\n",
       "      <th>YEAR BUILT</th>\n",
       "      <th>TAX CLASS AT TIME OF SALE</th>\n",
       "      <th>BUILDING CLASS AT TIME OF SALE</th>\n",
       "      <th>SALE DATE</th>\n",
       "    </tr>\n",
       "  </thead>\n",
       "  <tbody>\n",
       "    <tr>\n",
       "      <th>10527</th>\n",
       "      <td>0.820513</td>\n",
       "      <td>0.21875</td>\n",
       "      <td>0.5</td>\n",
       "      <td>0.641358</td>\n",
       "      <td>0.004996</td>\n",
       "      <td>0.144144</td>\n",
       "      <td>0.0</td>\n",
       "      <td>0.043290</td>\n",
       "      <td>0.0</td>\n",
       "      <td>0.0</td>\n",
       "      <td>0.0</td>\n",
       "      <td>0.0</td>\n",
       "      <td>0.0</td>\n",
       "      <td>0.948833</td>\n",
       "      <td>0.333333</td>\n",
       "      <td>0.136364</td>\n",
       "      <td>1.000000</td>\n",
       "    </tr>\n",
       "    <tr>\n",
       "      <th>10531</th>\n",
       "      <td>0.820513</td>\n",
       "      <td>0.21875</td>\n",
       "      <td>0.5</td>\n",
       "      <td>0.643144</td>\n",
       "      <td>0.004219</td>\n",
       "      <td>0.144144</td>\n",
       "      <td>0.0</td>\n",
       "      <td>0.160173</td>\n",
       "      <td>0.0</td>\n",
       "      <td>0.0</td>\n",
       "      <td>0.0</td>\n",
       "      <td>0.0</td>\n",
       "      <td>0.0</td>\n",
       "      <td>0.948833</td>\n",
       "      <td>0.333333</td>\n",
       "      <td>0.136364</td>\n",
       "      <td>0.903409</td>\n",
       "    </tr>\n",
       "    <tr>\n",
       "      <th>10544</th>\n",
       "      <td>0.820513</td>\n",
       "      <td>0.21875</td>\n",
       "      <td>0.5</td>\n",
       "      <td>0.652970</td>\n",
       "      <td>0.001332</td>\n",
       "      <td>0.144144</td>\n",
       "      <td>0.0</td>\n",
       "      <td>0.160173</td>\n",
       "      <td>0.0</td>\n",
       "      <td>0.0</td>\n",
       "      <td>0.0</td>\n",
       "      <td>0.0</td>\n",
       "      <td>0.0</td>\n",
       "      <td>0.948833</td>\n",
       "      <td>0.333333</td>\n",
       "      <td>0.136364</td>\n",
       "      <td>0.792614</td>\n",
       "    </tr>\n",
       "    <tr>\n",
       "      <th>10553</th>\n",
       "      <td>0.820513</td>\n",
       "      <td>0.21875</td>\n",
       "      <td>0.5</td>\n",
       "      <td>0.660116</td>\n",
       "      <td>0.000777</td>\n",
       "      <td>0.144144</td>\n",
       "      <td>0.0</td>\n",
       "      <td>0.160173</td>\n",
       "      <td>0.0</td>\n",
       "      <td>0.0</td>\n",
       "      <td>0.0</td>\n",
       "      <td>0.0</td>\n",
       "      <td>0.0</td>\n",
       "      <td>0.943865</td>\n",
       "      <td>0.333333</td>\n",
       "      <td>0.136364</td>\n",
       "      <td>0.880682</td>\n",
       "    </tr>\n",
       "    <tr>\n",
       "      <th>10558</th>\n",
       "      <td>0.820513</td>\n",
       "      <td>0.21875</td>\n",
       "      <td>0.5</td>\n",
       "      <td>0.660116</td>\n",
       "      <td>0.003997</td>\n",
       "      <td>0.144144</td>\n",
       "      <td>0.0</td>\n",
       "      <td>0.160173</td>\n",
       "      <td>0.0</td>\n",
       "      <td>0.0</td>\n",
       "      <td>0.0</td>\n",
       "      <td>0.0</td>\n",
       "      <td>0.0</td>\n",
       "      <td>0.948833</td>\n",
       "      <td>0.333333</td>\n",
       "      <td>0.136364</td>\n",
       "      <td>0.826705</td>\n",
       "    </tr>\n",
       "    <tr>\n",
       "      <th>...</th>\n",
       "      <td>...</td>\n",
       "      <td>...</td>\n",
       "      <td>...</td>\n",
       "      <td>...</td>\n",
       "      <td>...</td>\n",
       "      <td>...</td>\n",
       "      <td>...</td>\n",
       "      <td>...</td>\n",
       "      <td>...</td>\n",
       "      <td>...</td>\n",
       "      <td>...</td>\n",
       "      <td>...</td>\n",
       "      <td>...</td>\n",
       "      <td>...</td>\n",
       "      <td>...</td>\n",
       "      <td>...</td>\n",
       "      <td>...</td>\n",
       "    </tr>\n",
       "    <tr>\n",
       "      <th>14832</th>\n",
       "      <td>0.923077</td>\n",
       "      <td>0.25000</td>\n",
       "      <td>0.5</td>\n",
       "      <td>0.554265</td>\n",
       "      <td>0.003664</td>\n",
       "      <td>0.216216</td>\n",
       "      <td>0.0</td>\n",
       "      <td>0.051948</td>\n",
       "      <td>0.0</td>\n",
       "      <td>0.0</td>\n",
       "      <td>0.0</td>\n",
       "      <td>0.0</td>\n",
       "      <td>0.0</td>\n",
       "      <td>0.948833</td>\n",
       "      <td>0.333333</td>\n",
       "      <td>0.209091</td>\n",
       "      <td>0.789773</td>\n",
       "    </tr>\n",
       "    <tr>\n",
       "      <th>14842</th>\n",
       "      <td>0.923077</td>\n",
       "      <td>0.25000</td>\n",
       "      <td>0.5</td>\n",
       "      <td>0.554265</td>\n",
       "      <td>0.005440</td>\n",
       "      <td>0.216216</td>\n",
       "      <td>0.0</td>\n",
       "      <td>0.051948</td>\n",
       "      <td>0.0</td>\n",
       "      <td>0.0</td>\n",
       "      <td>0.0</td>\n",
       "      <td>0.0</td>\n",
       "      <td>0.0</td>\n",
       "      <td>0.957774</td>\n",
       "      <td>0.333333</td>\n",
       "      <td>0.209091</td>\n",
       "      <td>0.818182</td>\n",
       "    </tr>\n",
       "    <tr>\n",
       "      <th>14844</th>\n",
       "      <td>0.923077</td>\n",
       "      <td>0.25000</td>\n",
       "      <td>0.5</td>\n",
       "      <td>0.554265</td>\n",
       "      <td>0.008216</td>\n",
       "      <td>0.216216</td>\n",
       "      <td>0.0</td>\n",
       "      <td>0.051948</td>\n",
       "      <td>0.0</td>\n",
       "      <td>0.0</td>\n",
       "      <td>0.0</td>\n",
       "      <td>0.0</td>\n",
       "      <td>0.0</td>\n",
       "      <td>0.944362</td>\n",
       "      <td>0.333333</td>\n",
       "      <td>0.209091</td>\n",
       "      <td>0.937500</td>\n",
       "    </tr>\n",
       "    <tr>\n",
       "      <th>14845</th>\n",
       "      <td>0.923077</td>\n",
       "      <td>0.25000</td>\n",
       "      <td>0.5</td>\n",
       "      <td>0.554265</td>\n",
       "      <td>0.008216</td>\n",
       "      <td>0.216216</td>\n",
       "      <td>0.0</td>\n",
       "      <td>0.051948</td>\n",
       "      <td>0.0</td>\n",
       "      <td>0.0</td>\n",
       "      <td>0.0</td>\n",
       "      <td>0.0</td>\n",
       "      <td>0.0</td>\n",
       "      <td>0.944362</td>\n",
       "      <td>0.333333</td>\n",
       "      <td>0.209091</td>\n",
       "      <td>0.917614</td>\n",
       "    </tr>\n",
       "    <tr>\n",
       "      <th>14848</th>\n",
       "      <td>0.923077</td>\n",
       "      <td>0.25000</td>\n",
       "      <td>0.5</td>\n",
       "      <td>0.554265</td>\n",
       "      <td>0.008216</td>\n",
       "      <td>0.216216</td>\n",
       "      <td>0.0</td>\n",
       "      <td>0.051948</td>\n",
       "      <td>0.0</td>\n",
       "      <td>0.0</td>\n",
       "      <td>0.0</td>\n",
       "      <td>0.0</td>\n",
       "      <td>0.0</td>\n",
       "      <td>0.944362</td>\n",
       "      <td>0.333333</td>\n",
       "      <td>0.209091</td>\n",
       "      <td>0.923295</td>\n",
       "    </tr>\n",
       "  </tbody>\n",
       "</table>\n",
       "<p>629 rows × 17 columns</p>\n",
       "</div>"
      ],
      "text/plain": [
       "       NEIGHBORHOOD  BUILDING CLASS CATEGORY  TAX CLASS AT PRESENT     BLOCK  \\\n",
       "10527      0.820513                  0.21875                   0.5  0.641358   \n",
       "10531      0.820513                  0.21875                   0.5  0.643144   \n",
       "10544      0.820513                  0.21875                   0.5  0.652970   \n",
       "10553      0.820513                  0.21875                   0.5  0.660116   \n",
       "10558      0.820513                  0.21875                   0.5  0.660116   \n",
       "...             ...                      ...                   ...       ...   \n",
       "14832      0.923077                  0.25000                   0.5  0.554265   \n",
       "14842      0.923077                  0.25000                   0.5  0.554265   \n",
       "14844      0.923077                  0.25000                   0.5  0.554265   \n",
       "14845      0.923077                  0.25000                   0.5  0.554265   \n",
       "14848      0.923077                  0.25000                   0.5  0.554265   \n",
       "\n",
       "            LOT  BUILDING CLASS AT PRESENT  APARTMENT NUMBER  ZIP CODE  \\\n",
       "10527  0.004996                   0.144144               0.0  0.043290   \n",
       "10531  0.004219                   0.144144               0.0  0.160173   \n",
       "10544  0.001332                   0.144144               0.0  0.160173   \n",
       "10553  0.000777                   0.144144               0.0  0.160173   \n",
       "10558  0.003997                   0.144144               0.0  0.160173   \n",
       "...         ...                        ...               ...       ...   \n",
       "14832  0.003664                   0.216216               0.0  0.051948   \n",
       "14842  0.005440                   0.216216               0.0  0.051948   \n",
       "14844  0.008216                   0.216216               0.0  0.051948   \n",
       "14845  0.008216                   0.216216               0.0  0.051948   \n",
       "14848  0.008216                   0.216216               0.0  0.051948   \n",
       "\n",
       "       RESIDENTIAL UNITS  COMMERCIAL UNITS  TOTAL UNITS  LAND SQUARE FEET  \\\n",
       "10527                0.0               0.0          0.0               0.0   \n",
       "10531                0.0               0.0          0.0               0.0   \n",
       "10544                0.0               0.0          0.0               0.0   \n",
       "10553                0.0               0.0          0.0               0.0   \n",
       "10558                0.0               0.0          0.0               0.0   \n",
       "...                  ...               ...          ...               ...   \n",
       "14832                0.0               0.0          0.0               0.0   \n",
       "14842                0.0               0.0          0.0               0.0   \n",
       "14844                0.0               0.0          0.0               0.0   \n",
       "14845                0.0               0.0          0.0               0.0   \n",
       "14848                0.0               0.0          0.0               0.0   \n",
       "\n",
       "       GROSS SQUARE FEET  YEAR BUILT  TAX CLASS AT TIME OF SALE  \\\n",
       "10527                0.0    0.948833                   0.333333   \n",
       "10531                0.0    0.948833                   0.333333   \n",
       "10544                0.0    0.948833                   0.333333   \n",
       "10553                0.0    0.943865                   0.333333   \n",
       "10558                0.0    0.948833                   0.333333   \n",
       "...                  ...         ...                        ...   \n",
       "14832                0.0    0.948833                   0.333333   \n",
       "14842                0.0    0.957774                   0.333333   \n",
       "14844                0.0    0.944362                   0.333333   \n",
       "14845                0.0    0.944362                   0.333333   \n",
       "14848                0.0    0.944362                   0.333333   \n",
       "\n",
       "       BUILDING CLASS AT TIME OF SALE  SALE DATE  \n",
       "10527                        0.136364   1.000000  \n",
       "10531                        0.136364   0.903409  \n",
       "10544                        0.136364   0.792614  \n",
       "10553                        0.136364   0.880682  \n",
       "10558                        0.136364   0.826705  \n",
       "...                               ...        ...  \n",
       "14832                        0.209091   0.789773  \n",
       "14842                        0.209091   0.818182  \n",
       "14844                        0.209091   0.937500  \n",
       "14845                        0.209091   0.917614  \n",
       "14848                        0.209091   0.923295  \n",
       "\n",
       "[629 rows x 17 columns]"
      ]
     },
     "execution_count": 37,
     "metadata": {},
     "output_type": "execute_result"
    }
   ],
   "source": [
    "X0[labels ==3]"
   ]
  },
  {
   "cell_type": "code",
   "execution_count": 40,
   "id": "ef481822",
   "metadata": {},
   "outputs": [
    {
     "data": {
      "text/plain": [
       "10527    0.194581\n",
       "10531    0.142857\n",
       "10544    0.105911\n",
       "10553    0.135468\n",
       "10558    0.137931\n",
       "           ...   \n",
       "14832    0.738916\n",
       "14842    0.788177\n",
       "14844    0.285714\n",
       "14845    0.230295\n",
       "14848    0.261083\n",
       "Name: SALE PRICE, Length: 629, dtype: float64"
      ]
     },
     "execution_count": 40,
     "metadata": {},
     "output_type": "execute_result"
    }
   ],
   "source": [
    "Y0[labels ==3]"
   ]
  },
  {
   "cell_type": "code",
   "execution_count": 30,
   "id": "55ee5428",
   "metadata": {},
   "outputs": [],
   "source": [
    "# build models based on clusters\n",
    "labels = knnm.labels_\n",
    "models = []\n",
    "for i in range(knnm.n_clusters):\n",
    "    X_cluster = X0[labels == i]\n",
    "    y_cluster = Y0[labels == i]\n",
    "    model = LinearRegression()\n",
    "    model.fit(X_cluster, y_cluster)\n",
    "    models.append(model)"
   ]
  },
  {
   "cell_type": "code",
   "execution_count": 48,
   "id": "1c01ec94",
   "metadata": {},
   "outputs": [
    {
     "data": {
      "text/plain": [
       "NEIGHBORHOOD                      0.487179\n",
       "BUILDING CLASS CATEGORY           0.343750\n",
       "TAX CLASS AT PRESENT              0.500000\n",
       "BLOCK                             0.413131\n",
       "LOT                               0.333740\n",
       "BUILDING CLASS AT PRESENT         0.738739\n",
       "APARTMENT NUMBER                  0.006823\n",
       "ZIP CODE                          0.032468\n",
       "RESIDENTIAL UNITS                 0.011111\n",
       "COMMERCIAL UNITS                  0.000000\n",
       "TOTAL UNITS                       0.010417\n",
       "LAND SQUARE FEET                  0.000000\n",
       "GROSS SQUARE FEET                 0.000000\n",
       "YEAR BUILT                        0.974665\n",
       "TAX CLASS AT TIME OF SALE         0.333333\n",
       "BUILDING CLASS AT TIME OF SALE    0.736364\n",
       "SALE DATE                         0.230114\n",
       "Name: 4328, dtype: float64"
      ]
     },
     "execution_count": 48,
     "metadata": {},
     "output_type": "execute_result"
    }
   ],
   "source": [
    "testX.iloc[1]"
   ]
  },
  {
   "cell_type": "code",
   "execution_count": 57,
   "id": "460b185c",
   "metadata": {},
   "outputs": [
    {
     "data": {
      "text/plain": [
       "11117    0.598522\n",
       "4328     0.201970\n",
       "7407     0.000004\n",
       "12552    0.944344\n",
       "723      0.270936\n",
       "           ...   \n",
       "10950    0.517241\n",
       "6146     0.009285\n",
       "8528     0.028522\n",
       "3007     0.492118\n",
       "109      0.817734\n",
       "Name: SALE PRICE, Length: 4760, dtype: float64"
      ]
     },
     "execution_count": 57,
     "metadata": {},
     "output_type": "execute_result"
    }
   ],
   "source": []
  },
  {
   "cell_type": "code",
   "execution_count": 58,
   "id": "f157d77c",
   "metadata": {},
   "outputs": [],
   "source": [
    "new_labels = knnm.predict(testX)\n",
    "predictions = np.zeros(len(testX))\n",
    "if not np.all(np.isin(new_labels, np.unique(knnm.labels_))):\n",
    "    raise ValueError('Predicted cluster labels outside range of original labels')\n",
    "for i in range(len(testX)):\n",
    "    cluster_idx = new_labels[i]\n",
    "    row = testX.iloc[i].values.reshape(1, -1)\n",
    "    coefs = models[cluster_idx].coef_\n",
    "    prediction = coefs.dot(row.T) + models[cluster_idx].intercept_\n",
    "    predictions[i] = prediction"
   ]
  },
  {
   "cell_type": "code",
   "execution_count": 59,
   "id": "24a1a5d5",
   "metadata": {},
   "outputs": [
    {
     "name": "stdout",
     "output_type": "stream",
     "text": [
      "[0.36328125 0.31046943 0.29237289 ... 0.03415287 0.3671875  0.42718263]\n"
     ]
    }
   ],
   "source": [
    "print(predictions)"
   ]
  },
  {
   "cell_type": "code",
   "execution_count": 60,
   "id": "61c792d2",
   "metadata": {},
   "outputs": [
    {
     "data": {
      "text/plain": [
       "0.4659750008757094"
      ]
     },
     "execution_count": 60,
     "metadata": {},
     "output_type": "execute_result"
    }
   ],
   "source": [
    "r2_score(testY, predictions)"
   ]
  }
 ],
 "metadata": {
  "kernelspec": {
   "display_name": "Python 3 (ipykernel)",
   "language": "python",
   "name": "python3"
  },
  "language_info": {
   "codemirror_mode": {
    "name": "ipython",
    "version": 3
   },
   "file_extension": ".py",
   "mimetype": "text/x-python",
   "name": "python",
   "nbconvert_exporter": "python",
   "pygments_lexer": "ipython3",
   "version": "3.9.12"
  }
 },
 "nbformat": 4,
 "nbformat_minor": 5
}
