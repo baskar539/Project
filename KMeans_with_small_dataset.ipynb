{
 "cells": [
  {
   "cell_type": "code",
   "execution_count": 1,
   "id": "d84fca72",
   "metadata": {},
   "outputs": [],
   "source": [
    "import pandas as pd\n",
    "import numpy as np\n",
    "from pandas.api.types import is_string_dtype\n",
    "from pandas.api.types import is_numeric_dtype\n",
    "import matplotlib.pyplot as plt\n",
    "from scipy import stats\n",
    "from sklearn.preprocessing import MinMaxScaler\n",
    "import seaborn as sns\n",
    "from sklearn.preprocessing import LabelEncoder\n",
    "from sklearn.linear_model import LinearRegression\n",
    "from sklearn.preprocessing import PolynomialFeatures\n",
    "from sklearn.model_selection import train_test_split, KFold, cross_val_score\n",
    "from sklearn import svm, feature_selection, linear_model, model_selection, metrics\n",
    "from sklearn.feature_selection import SelectKBest\n",
    "from sklearn.feature_selection import f_regression\n",
    "import matplotlib.pylab as plb\n",
    "from sklearn.exceptions import ConvergenceWarning\n",
    "import warnings\n",
    "from sklearn.ensemble import RandomForestClassifier\n",
    "from sklearn.impute import KNNImputer\n",
    "from xgboost import XGBRegressor\n",
    "from sklearn.metrics import r2_score\n",
    "from sklearn.cluster import KMeans\n",
    "from sklearn.metrics import silhouette_score\n",
    "from sklearn.cluster import DBSCAN"
   ]
  },
  {
   "cell_type": "code",
   "execution_count": 2,
   "id": "de609d92",
   "metadata": {},
   "outputs": [],
   "source": [
    "df = pd.read_csv('small_clean_set.csv').drop(columns='Unnamed: 0')"
   ]
  },
  {
   "cell_type": "code",
   "execution_count": 3,
   "id": "04b5dc54",
   "metadata": {},
   "outputs": [
    {
     "name": "stdout",
     "output_type": "stream",
     "text": [
      "\n",
      "Plotting elbow method...\n",
      "2 428796454360591.4\n",
      "4 75614749747663.2\n",
      "6 33748248123713.1\n",
      "8 19324534895893.777\n",
      "10 12900302057485.217\n",
      "12 8826276997064.549\n",
      "14 6285614416956.893\n",
      "16 4899970374504.655\n",
      "18 3814464193852.0273\n",
      "20 3059946137876.3853\n",
      "22 2528273419633.083\n",
      "24 2099314201188.791\n",
      "26 1819906161209.328\n",
      "28 1569094840051.5366\n",
      "30 1340892718880.5867\n",
      "32 1181806060703.2603\n",
      "34 1033674075669.8243\n",
      "36 910499009059.394\n",
      "38 799730471384.5524\n",
      "40 720867024217.0895\n",
      "42 646269367625.0286\n",
      "44 581243553852.5349\n",
      "46 536065832570.99396\n",
      "48 479732331583.5469\n",
      "50 445905177056.0122\n",
      "52 428627677470.86273\n",
      "54 383637865852.5093\n",
      "56 353297986224.46533\n",
      "58 331293887332.8922\n",
      "60 310888579067.162\n",
      "62 282319388717.5283\n",
      "64 265637350076.89722\n",
      "66 248164646718.3967\n",
      "68 228158755985.3415\n",
      "70 209397884381.4712\n",
      "72 198705115345.1254\n",
      "74 190366966565.06863\n",
      "76 175587572393.5831\n",
      "78 160217837699.81723\n",
      "80 158555365912.17062\n",
      "82 146936813496.40747\n",
      "84 143629031326.00055\n",
      "86 136492407602.96814\n",
      "88 128518909755.14233\n",
      "90 123981752243.9454\n",
      "92 116956335057.06277\n",
      "94 113474708268.09476\n",
      "96 107179317362.57497\n",
      "98 103344104457.9031\n"
     ]
    },
    {
     "data": {
      "image/png": "[encoded data removed]",
      "text/plain": [
       "<Figure size 432x288 with 1 Axes>"
      ]
     },
     "metadata": {
      "needs_background": "light"
     },
     "output_type": "display_data"
    },
    {
     "name": "stdout",
     "output_type": "stream",
     "text": [
      "DONE\n"
     ]
    }
   ],
   "source": [
    "def elbow(data):\n",
    "    print(\"\\nPlotting elbow method...\")\n",
    "    sse = {}\n",
    "    for k in range(2, 100, 2):\n",
    "        kmeans = KMeans(n_clusters=k, max_iter=1000).fit(data)\n",
    "        print(k, kmeans.inertia_)\n",
    "        sse[k] = kmeans.inertia_  \n",
    "        # Inertia: Sum of distances of samples to their closest cluster center\n",
    "    plt.figure()\n",
    "    plt.plot(list(sse.keys()), list(sse.values()), linewidth=4)\n",
    "    plt.xlabel(\"Number of clusters\")\n",
    "    plt.ylabel(\"Cost\")\n",
    "    plt.show()\n",
    "    print(\"DONE\")\n",
    "    \n",
    "elbow(df)"
   ]
  },
  {
   "cell_type": "code",
   "execution_count": 4,
   "id": "d03ca08f",
   "metadata": {},
   "outputs": [],
   "source": [
    "X0 = df.loc[:, df.columns != 'SALE PRICE'] \n",
    "Y0 = df['SALE PRICE'] \n",
    "trainX, testX, trainY, testY = model_selection.train_test_split(X0, Y0, test_size=0.30) "
   ]
  },
  {
   "cell_type": "code",
   "execution_count": 5,
   "id": "91835b6e",
   "metadata": {},
   "outputs": [
    {
     "data": {
      "text/plain": [
       "KMeans(n_clusters=10)"
      ]
     },
     "execution_count": 5,
     "metadata": {},
     "output_type": "execute_result"
    }
   ],
   "source": [
    "knnm = KMeans(n_clusters=10)\n",
    "knnm.fit(X0)"
   ]
  },
  {
   "cell_type": "code",
   "execution_count": 6,
   "id": "c702869c",
   "metadata": {},
   "outputs": [
    {
     "name": "stdout",
     "output_type": "stream",
     "text": [
      "Silhouette score: -0.37\n"
     ]
    }
   ],
   "source": [
    "# predict the clusters for the data\n",
    "y_pred = knnm.predict(testX)\n",
    "\n",
    "# calculate Silhouette score for the clustering\n",
    "silhouette = silhouette_score(testX, testY)\n",
    "\n",
    "# print Silhouette score\n",
    "print(f\"Silhouette score: {silhouette:.2f}\")"
   ]
  }
 ],
 "metadata": {
  "kernelspec": {
   "display_name": "Python 3 (ipykernel)",
   "language": "python",
   "name": "python3"
  },
  "language_info": {
   "codemirror_mode": {
    "name": "ipython",
    "version": 3
   },
   "file_extension": ".py",
   "mimetype": "text/x-python",
   "name": "python",
   "nbconvert_exporter": "python",
   "pygments_lexer": "ipython3",
   "version": "3.9.12"
  }
 },
 "nbformat": 4,
 "nbformat_minor": 5
}
